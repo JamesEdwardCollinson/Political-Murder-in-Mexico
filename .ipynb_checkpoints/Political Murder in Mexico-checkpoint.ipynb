{
 "cells": [
  {
   "cell_type": "markdown",
   "metadata": {},
   "source": [
    "# Political Murder in Mexico\n",
    "The Mexican drug war is the Mexican theater of the global war on drugs, with the Mexican government involved in conflicts between various cartels. When the Mexican military began to intervene under Felipe Calderon’s presidency in 2006, violence escalated dramatically, and to date has left an estimated 350 to 400 thousand killed or disappeared across the county*. \n",
    "\n",
    "In addition to the horrific civilian casualties, there has been a large increase in the number of journalists and politicians killed, which has destabilized and damaged the country’s democracy. In this analysis, I will analyze data on the politicians and media professionals who have been killed over this period, show how the rate of assassinations has changed over time, and map out the most dangerous areas for political candidates in Mexico."
   ]
  },
  {
   "cell_type": "code",
   "execution_count": 1,
   "metadata": {},
   "outputs": [],
   "source": [
    "import pandas as pd\n",
    "import geocoder \n",
    "import requests\n",
    "from geopy.geocoders import Nominatim \n",
    "import geopandas\n",
    "import matplotlib.pyplot as plt\n",
    "import plotly.express as px\n",
    "import seaborn as sns"
   ]
  },
  {
   "cell_type": "markdown",
   "metadata": {},
   "source": [
    "## Import and Clean Data\n",
    "For this analysis, data will be scraped from Wikipedia."
   ]
  },
  {
   "cell_type": "code",
   "execution_count": 2,
   "metadata": {},
   "outputs": [],
   "source": [
    "url = \"https://en.wikipedia.org/wiki/List_of_politicians_killed_in_the_Mexican_drug_war#Presidency_of_%C3%81ndres_Manuel_L%C3%B3pez_Obrador\"\n",
    "df = pd.read_html(url)"
   ]
  },
  {
   "cell_type": "code",
   "execution_count": 3,
   "metadata": {},
   "outputs": [
    {
     "data": {
      "text/html": [
       "<div>\n",
       "<style scoped>\n",
       "    .dataframe tbody tr th:only-of-type {\n",
       "        vertical-align: middle;\n",
       "    }\n",
       "\n",
       "    .dataframe tbody tr th {\n",
       "        vertical-align: top;\n",
       "    }\n",
       "\n",
       "    .dataframe thead th {\n",
       "        text-align: right;\n",
       "    }\n",
       "</style>\n",
       "<table border=\"1\" class=\"dataframe\">\n",
       "  <thead>\n",
       "    <tr style=\"text-align: right;\">\n",
       "      <th></th>\n",
       "      <th>Name</th>\n",
       "      <th>Political Party</th>\n",
       "      <th>Position</th>\n",
       "      <th>Date</th>\n",
       "      <th>Location</th>\n",
       "      <th>Sources</th>\n",
       "    </tr>\n",
       "  </thead>\n",
       "  <tbody>\n",
       "    <tr>\n",
       "      <th>0</th>\n",
       "      <td>Teodoro Herrera Sosa</td>\n",
       "      <td>PRI</td>\n",
       "      <td>Former municipal president</td>\n",
       "      <td>18 January 2005</td>\n",
       "      <td>Soto la Marina, Tamaulipas</td>\n",
       "      <td>[7][8]</td>\n",
       "    </tr>\n",
       "    <tr>\n",
       "      <th>1</th>\n",
       "      <td>Raúl Delgado Benavides</td>\n",
       "      <td>NaN</td>\n",
       "      <td>Municipal president</td>\n",
       "      <td>15 July 2006</td>\n",
       "      <td>Cuautitlán, Jalisco</td>\n",
       "      <td>[9][10]</td>\n",
       "    </tr>\n",
       "  </tbody>\n",
       "</table>\n",
       "</div>"
      ],
      "text/plain": [
       "                     Name Political Party                    Position  \\\n",
       "0    Teodoro Herrera Sosa             PRI  Former municipal president   \n",
       "1  Raúl Delgado Benavides             NaN         Municipal president   \n",
       "\n",
       "              Date                    Location  Sources  \n",
       "0  18 January 2005  Soto la Marina, Tamaulipas   [7][8]  \n",
       "1     15 July 2006         Cuautitlán, Jalisco  [9][10]  "
      ]
     },
     "execution_count": 3,
     "metadata": {},
     "output_type": "execute_result"
    }
   ],
   "source": [
    "df[1].head() # Tests to see which dataframes are required. df[1] can be ignored as it is pre-Calderon"
   ]
  },
  {
   "cell_type": "code",
   "execution_count": 4,
   "metadata": {},
   "outputs": [],
   "source": [
    "fox_df = df[1]\n",
    "calderon_df = df[2]\n",
    "penaNieto_df = df[3]\n",
    "amlo_df = df[4]"
   ]
  },
  {
   "cell_type": "code",
   "execution_count": 5,
   "metadata": {},
   "outputs": [],
   "source": [
    "fox_df['President'] = 'Vicente Fox'\n",
    "calderon_df['President'] = 'Felipe Calderón'\n",
    "penaNieto_df['President'] = 'Enrique Peña Nieto'\n",
    "amlo_df['President'] = 'Andrés Manuel López Obrador'"
   ]
  },
  {
   "cell_type": "code",
   "execution_count": 6,
   "metadata": {},
   "outputs": [],
   "source": [
    "# Link tables to create DF\n",
    "drugwar_df = pd.concat([fox_df,calderon_df,penaNieto_df,amlo_df])"
   ]
  },
  {
   "cell_type": "code",
   "execution_count": 7,
   "metadata": {},
   "outputs": [
    {
     "data": {
      "text/plain": [
       "Name                0\n",
       "Political Party    54\n",
       "Position            1\n",
       "Date                1\n",
       "Location            1\n",
       "Sources             1\n",
       "President           0\n",
       "dtype: int64"
      ]
     },
     "execution_count": 7,
     "metadata": {},
     "output_type": "execute_result"
    }
   ],
   "source": [
    "# Check for null values\n",
    "drugwar_df.isnull().sum()"
   ]
  },
  {
   "cell_type": "markdown",
   "metadata": {},
   "source": [
    "Note, 54 assassinated politicians do not have a political association listed on Wikipedia. For consistency's sake, I will assign all of these as 'Independent'."
   ]
  },
  {
   "cell_type": "code",
   "execution_count": 8,
   "metadata": {},
   "outputs": [],
   "source": [
    "drugwar_df['Political Party'] = drugwar_df['Political Party'].fillna('Independent')"
   ]
  },
  {
   "cell_type": "markdown",
   "metadata": {},
   "source": [
    "One other row appears to be null, so I will drop that."
   ]
  },
  {
   "cell_type": "code",
   "execution_count": 9,
   "metadata": {},
   "outputs": [],
   "source": [
    "drugwar_df.drop(drugwar_df[drugwar_df['Position'].isnull() == True].index, inplace=True)"
   ]
  },
  {
   "cell_type": "code",
   "execution_count": 10,
   "metadata": {},
   "outputs": [
    {
     "data": {
      "text/plain": [
       "Name               0\n",
       "Political Party    0\n",
       "Position           0\n",
       "Date               0\n",
       "Location           0\n",
       "Sources            0\n",
       "President          0\n",
       "dtype: int64"
      ]
     },
     "execution_count": 10,
     "metadata": {},
     "output_type": "execute_result"
    }
   ],
   "source": [
    "drugwar_df.isnull().sum()"
   ]
  },
  {
   "cell_type": "markdown",
   "metadata": {},
   "source": [
    "## Explore the Data\n",
    "\n",
    "Now the data is clean and we have the locations, I will do some quick EDA to see how the rate of murders changed over time and with different presidents, and which political parties are targetted the most."
   ]
  },
  {
   "cell_type": "code",
   "execution_count": 11,
   "metadata": {},
   "outputs": [
    {
     "name": "stdout",
     "output_type": "stream",
     "text": [
      "191\n"
     ]
    }
   ],
   "source": [
    "print(len(drugwar_df))"
   ]
  },
  {
   "cell_type": "markdown",
   "metadata": {},
   "source": [
    "As we can see from the length of the dataframe, there have been 190 politicans murdered since the start of the drug war."
   ]
  },
  {
   "cell_type": "code",
   "execution_count": 12,
   "metadata": {
    "scrolled": true
   },
   "outputs": [
    {
     "data": {
      "text/plain": [
       "(array([0, 1, 2, 3]),\n",
       " [Text(0, 0, 'Vicente Fox'),\n",
       "  Text(1, 0, 'Felipe Calderón'),\n",
       "  Text(2, 0, 'Enrique Peña Nieto'),\n",
       "  Text(3, 0, 'Andrés Manuel López Obrador')])"
      ]
     },
     "execution_count": 12,
     "metadata": {},
     "output_type": "execute_result"
    },
    {
     "data": {
      "image/png": "[encoded data removed]",
      "text/plain": [
       "<Figure size 432x288 with 1 Axes>"
      ]
     },
     "metadata": {
      "needs_background": "light"
     },
     "output_type": "display_data"
    }
   ],
   "source": [
    "sns.countplot(x='President', data=drugwar_df)\n",
    "plt.xlabel('President')\n",
    "plt.ylabel('Number of murders')\n",
    "plt.xticks(rotation=45)"
   ]
  },
  {
   "cell_type": "markdown",
   "metadata": {},
   "source": [
    "As you can see, ploticial assassinations increased dramatically over Calderón's presidency. In addition, while AMLO declared the drug war to be over at the beginning of his presidency, there have been more political murders during his 3 years (to date) than over Peña Nieto's reign.\n",
    "\n",
    "To get a better view of the timeline, lets interpret the date column as DateTime and plot by month."
   ]
  },
  {
   "cell_type": "code",
   "execution_count": 13,
   "metadata": {},
   "outputs": [
    {
     "name": "stdout",
     "output_type": "stream",
     "text": [
      "datetime64[ns]\n"
     ]
    }
   ],
   "source": [
    "# Clean up original date column before conversion\n",
    "drugwar_df['Date'] = drugwar_df['Date'].str.replace('22 or 23', '23')\n",
    "drugwar_df['Date'] = drugwar_df['Date'].str.replace('Body found ', '')\n",
    "drugwar_df['Date'] = drugwar_df['Date'].str.replace('(body found on this date)', '')\n",
    "drugwar_df['Date'] = drugwar_df['Date'].str.replace('(', '')\n",
    "drugwar_df['Date'] = drugwar_df['Date'].str.replace(')', '')\n",
    "\n",
    "#Convert to DateTime\n",
    "drugwar_df['Date'] = pd.to_datetime(drugwar_df['Date'])\n",
    "print (drugwar_df['Date'].dtype)\n"
   ]
  },
  {
   "cell_type": "code",
   "execution_count": 14,
   "metadata": {
    "scrolled": true
   },
   "outputs": [
    {
     "name": "stdout",
     "output_type": "stream",
     "text": [
      "datetime64[ns]\n"
     ]
    }
   ],
   "source": [
    "print (drugwar_df['Date'].dtype)"
   ]
  },
  {
   "cell_type": "code",
   "execution_count": 15,
   "metadata": {},
   "outputs": [],
   "source": [
    "# Add a 'Count' column to help plotting\n",
    "drugwar_df['Count']=1"
   ]
  },
  {
   "cell_type": "code",
   "execution_count": 16,
   "metadata": {},
   "outputs": [
    {
     "data": {
      "text/html": [
       "<div>\n",
       "<style scoped>\n",
       "    .dataframe tbody tr th:only-of-type {\n",
       "        vertical-align: middle;\n",
       "    }\n",
       "\n",
       "    .dataframe tbody tr th {\n",
       "        vertical-align: top;\n",
       "    }\n",
       "\n",
       "    .dataframe thead th {\n",
       "        text-align: right;\n",
       "    }\n",
       "</style>\n",
       "<table border=\"1\" class=\"dataframe\">\n",
       "  <thead>\n",
       "    <tr style=\"text-align: right;\">\n",
       "      <th></th>\n",
       "      <th>Count</th>\n",
       "      <th>President</th>\n",
       "    </tr>\n",
       "    <tr>\n",
       "      <th>Date</th>\n",
       "      <th></th>\n",
       "      <th></th>\n",
       "    </tr>\n",
       "  </thead>\n",
       "  <tbody>\n",
       "    <tr>\n",
       "      <th>2005-12-31</th>\n",
       "      <td>1</td>\n",
       "      <td>Vicente Fox</td>\n",
       "    </tr>\n",
       "    <tr>\n",
       "      <th>2006-12-31</th>\n",
       "      <td>1</td>\n",
       "      <td>Vicente Fox</td>\n",
       "    </tr>\n",
       "    <tr>\n",
       "      <th>2007-12-31</th>\n",
       "      <td>1</td>\n",
       "      <td>Felipe Calderón</td>\n",
       "    </tr>\n",
       "    <tr>\n",
       "      <th>2008-12-31</th>\n",
       "      <td>6</td>\n",
       "      <td>Felipe Calderón</td>\n",
       "    </tr>\n",
       "    <tr>\n",
       "      <th>2009-12-31</th>\n",
       "      <td>16</td>\n",
       "      <td>Felipe Calderón</td>\n",
       "    </tr>\n",
       "  </tbody>\n",
       "</table>\n",
       "</div>"
      ],
      "text/plain": [
       "            Count        President\n",
       "Date                              \n",
       "2005-12-31      1      Vicente Fox\n",
       "2006-12-31      1      Vicente Fox\n",
       "2007-12-31      1  Felipe Calderón\n",
       "2008-12-31      6  Felipe Calderón\n",
       "2009-12-31     16  Felipe Calderón"
      ]
     },
     "execution_count": 16,
     "metadata": {},
     "output_type": "execute_result"
    }
   ],
   "source": [
    "result = drugwar_df.groupby(pd.Grouper(key='Date',freq='Y')).agg({'Count':'sum', 'President':pd.Series.mode})\n",
    "result.head()"
   ]
  },
  {
   "cell_type": "code",
   "execution_count": 17,
   "metadata": {},
   "outputs": [
    {
     "data": {
      "text/plain": [
       "Text(0, 0.5, 'Total Deaths')"
      ]
     },
     "execution_count": 17,
     "metadata": {},
     "output_type": "execute_result"
    },
    {
     "data": {
      "image/png": "[encoded data removed]",
      "text/plain": [
       "<Figure size 432x288 with 1 Axes>"
      ]
     },
     "metadata": {
      "needs_background": "light"
     },
     "output_type": "display_data"
    }
   ],
   "source": [
    "sns.lineplot(data=result)\n",
    "plt.xlabel('Year')\n",
    "plt.ylabel('Total Deaths')"
   ]
  },
  {
   "cell_type": "markdown",
   "metadata": {},
   "source": [
    "As you can see from the above, political murders increased dramatically from 2008 onwards, peaking in 2012. Interestingly, there was a sharp decline throughout Peña Nieto's presidency (2012-2018) and, while AMLO declared the drug war to be over at the start of his term in 2018, we see there was still a marked increase over the following years."
   ]
  },
  {
   "cell_type": "code",
   "execution_count": 18,
   "metadata": {},
   "outputs": [
    {
     "data": {
      "text/plain": [
       "Text(0, 0.5, 'Political Affiliation')"
      ]
     },
     "execution_count": 18,
     "metadata": {},
     "output_type": "execute_result"
    },
    {
     "data": {
      "image/png": "[encoded data removed]",
      "text/plain": [
       "<Figure size 432x288 with 1 Axes>"
      ]
     },
     "metadata": {
      "needs_background": "light"
     },
     "output_type": "display_data"
    }
   ],
   "source": [
    "sns.countplot(y='Political Party', \n",
    "              data=drugwar_df, \n",
    "              order=drugwar_df['Political Party'].value_counts().index)\n",
    "plt.xlabel('Number of murders')\n",
    "plt.ylabel('Political Affiliation')"
   ]
  },
  {
   "cell_type": "markdown",
   "metadata": {},
   "source": [
    "Interestingly, the political affiliation most targetted is the PRI. This may be due to the PRI generally being the largest party in Mexico, having been in power since the revolution during all but Calderón and AMLO's terms. Given Peña Nieto was PRI, and political murders dropped the most over his presidency (during the period studied) it would be interesting to see if there was a specific drop in murders of memebers of his own party. Unfortunately, this is beyond the scope of this study."
   ]
  },
  {
   "cell_type": "markdown",
   "metadata": {},
   "source": [
    "## Map the Data\n",
    "To get a better visual representation of where and when the murders happened, first I'll make a quick plot with geopandas to show the location and which term it was in, and then I'll plot a more detailed choropleth plot to show which states are at the highest risk of political violence.\n",
    "\n",
    "First, I will define a function to extract the latitude and longitude of the murders, based on the 'Location' column of the dataframe"
   ]
  },
  {
   "cell_type": "code",
   "execution_count": 19,
   "metadata": {},
   "outputs": [],
   "source": [
    "# Function to convert Location details to Geographical Coordinates \n",
    "def latLong(dataframe):\n",
    "    lat = []\n",
    "    lng = []\n",
    "    missing = []\n",
    "    for address in dataframe['Location']:\n",
    "        try:\n",
    "            geolocator = Nominatim(user_agent='uncleTubby')\n",
    "            location = geolocator.geocode(address)\n",
    "            latitude = location.latitude\n",
    "            longitude = location.longitude\n",
    "            #print(f\"{address}'s latitude is {latitude} and its longitude is {longitude}\")\n",
    "            lat.append(latitude)\n",
    "            lng.append(longitude)\n",
    "        except:\n",
    "            missing.append(address)\n",
    "            #print(\"********Cannot find coordinates of \" + address)\n",
    "            continue\n",
    "\n",
    "    if missing == []:\n",
    "        print(\"All coordinates found successfully!\")\n",
    "        return lat, lng, []\n",
    "    else:\n",
    "        print(\"ERROR:\" + str(len(mxmissing)) + \" locations not found.\")\n",
    "        print(\"Please check the following:\")\n",
    "        print(missing)\n",
    "        return [],[],missing"
   ]
  },
  {
   "cell_type": "code",
   "execution_count": 20,
   "metadata": {},
   "outputs": [
    {
     "ename": "NameError",
     "evalue": "name 'mxmissing' is not defined",
     "output_type": "error",
     "traceback": [
      "\u001b[0;31m---------------------------------------------------------------------------\u001b[0m",
      "\u001b[0;31mNameError\u001b[0m                                 Traceback (most recent call last)",
      "\u001b[0;32m<ipython-input-20-779d3c54f1d7>\u001b[0m in \u001b[0;36m<module>\u001b[0;34m\u001b[0m\n\u001b[0;32m----> 1\u001b[0;31m \u001b[0mmxlatitude\u001b[0m\u001b[0;34m,\u001b[0m \u001b[0mmxlongitude\u001b[0m\u001b[0;34m,\u001b[0m \u001b[0mmxmissing\u001b[0m \u001b[0;34m=\u001b[0m \u001b[0mlatLong\u001b[0m\u001b[0;34m(\u001b[0m\u001b[0mdrugwar_df\u001b[0m\u001b[0;34m)\u001b[0m\u001b[0;34m\u001b[0m\u001b[0;34m\u001b[0m\u001b[0m\n\u001b[0m",
      "\u001b[0;32m<ipython-input-19-374c379a7f4d>\u001b[0m in \u001b[0;36mlatLong\u001b[0;34m(dataframe)\u001b[0m\n\u001b[1;32m     22\u001b[0m         \u001b[0;32mreturn\u001b[0m \u001b[0mlat\u001b[0m\u001b[0;34m,\u001b[0m \u001b[0mlng\u001b[0m\u001b[0;34m,\u001b[0m \u001b[0;34m[\u001b[0m\u001b[0;34m]\u001b[0m\u001b[0;34m\u001b[0m\u001b[0;34m\u001b[0m\u001b[0m\n\u001b[1;32m     23\u001b[0m     \u001b[0;32melse\u001b[0m\u001b[0;34m:\u001b[0m\u001b[0;34m\u001b[0m\u001b[0;34m\u001b[0m\u001b[0m\n\u001b[0;32m---> 24\u001b[0;31m         \u001b[0mprint\u001b[0m\u001b[0;34m(\u001b[0m\u001b[0;34m\"ERROR:\"\u001b[0m \u001b[0;34m+\u001b[0m \u001b[0mstr\u001b[0m\u001b[0;34m(\u001b[0m\u001b[0mlen\u001b[0m\u001b[0;34m(\u001b[0m\u001b[0mmxmissing\u001b[0m\u001b[0;34m)\u001b[0m\u001b[0;34m)\u001b[0m \u001b[0;34m+\u001b[0m \u001b[0;34m\" locations not found.\"\u001b[0m\u001b[0;34m)\u001b[0m\u001b[0;34m\u001b[0m\u001b[0;34m\u001b[0m\u001b[0m\n\u001b[0m\u001b[1;32m     25\u001b[0m         \u001b[0mprint\u001b[0m\u001b[0;34m(\u001b[0m\u001b[0;34m\"Please check the following:\"\u001b[0m\u001b[0;34m)\u001b[0m\u001b[0;34m\u001b[0m\u001b[0;34m\u001b[0m\u001b[0m\n\u001b[1;32m     26\u001b[0m         \u001b[0mprint\u001b[0m\u001b[0;34m(\u001b[0m\u001b[0mmissing\u001b[0m\u001b[0;34m)\u001b[0m\u001b[0;34m\u001b[0m\u001b[0;34m\u001b[0m\u001b[0m\n",
      "\u001b[0;31mNameError\u001b[0m: name 'mxmissing' is not defined"
     ]
    }
   ],
   "source": [
    "mxlatitude, mxlongitude, mxmissing = latLong(drugwar_df)"
   ]
  },
  {
   "cell_type": "markdown",
   "metadata": {},
   "source": [
    "Several locations could not be found by Noninatim. This appears to be due to spelling mistakes on the Wikipedia page, so will have to be corrected manually."
   ]
  },
  {
   "cell_type": "code",
   "execution_count": null,
   "metadata": {},
   "outputs": [],
   "source": [
    "# Create a dictionary to manually correct the missing entries\n",
    "mxcorrected = {'Isla del Cayacal, Michoacán':'Lázaro Cárdenas, Michoacán',\n",
    "               'Guadalupe y Calvo Municipality, Chihuahua':'Guadalupe y Calvo, Chihuahua',\n",
    "               'Mezquital Municipality, Durango':'Mezquital, Durango',\n",
    "               'Jololalpan, Puebla':'Jolalpan, Puebla',\n",
    "               'Juan Rodríguez Lara, Veracruz':'Juan Rodríguez Clara, Veracruz',\n",
    "               'Cuancamé, Zacatecas':'Cuencamé, Zacatecas',\n",
    "               'San Salvador el Verde, Oaxaca':'San Salvador el Verde, Puebla',\n",
    "               'Ahuacutzingo, Guerrero':'Ahuacuotzingo, Guerrero',\n",
    "               'Pungabarato, Guerrero':'Pungarabato, Guerrero',\n",
    "               'Santa Clara Ocoyucan, Cholula, Puebla':'Ocoyucan, Puebla',\n",
    "               'Tlaxiaco, Oaxaca (near City Hall)':'Tlaxiaco, Oaxaca',\n",
    "               'Papaloapan Region, Oaxaca':'La Paz, State of Mexico',\n",
    "               'Puerto Morelos Municipality, Quintana Roo':'Puerto Morelos, Quintana Roo'\n",
    "    \n",
    "}\n",
    "\n"
   ]
  },
  {
   "cell_type": "code",
   "execution_count": null,
   "metadata": {},
   "outputs": [],
   "source": [
    "# Update dataframe\n",
    "drugwar_df.replace({'Location':mxcorrected}, inplace=True)"
   ]
  },
  {
   "cell_type": "code",
   "execution_count": null,
   "metadata": {},
   "outputs": [],
   "source": [
    "# Retry search\n",
    "mxlatitude, mxlongitude, mxmissing = latLong(drugwar_df)"
   ]
  },
  {
   "cell_type": "code",
   "execution_count": null,
   "metadata": {},
   "outputs": [],
   "source": [
    "# Export data to CSV for backup\n",
    "drugwar_df.to_csv(\"drugwar_df.csv\", index=False)\n",
    "print('File successfully exported!')"
   ]
  },
  {
   "cell_type": "code",
   "execution_count": null,
   "metadata": {},
   "outputs": [],
   "source": [
    "drugwar_df= pd.read_csv(\"drugwar_df.csv\")"
   ]
  },
  {
   "cell_type": "markdown",
   "metadata": {},
   "source": [
    "Now we have all the coordinates, let's add them as columns in the dataframe:"
   ]
  },
  {
   "cell_type": "code",
   "execution_count": null,
   "metadata": {},
   "outputs": [],
   "source": [
    "# Assign Lat & Long to \n",
    "drugwar_df['Latitude'] = mxlatitude\n",
    "drugwar_df['Longitude'] = mxlongitude"
   ]
  },
  {
   "cell_type": "code",
   "execution_count": null,
   "metadata": {},
   "outputs": [],
   "source": [
    "drugwar_df.head()"
   ]
  },
  {
   "cell_type": "markdown",
   "metadata": {},
   "source": [
    "### GeoPandas Map\n",
    "Now the coordinates are in the dataframe, I will prep the data and create a geopandas map."
   ]
  },
  {
   "cell_type": "code",
   "execution_count": null,
   "metadata": {},
   "outputs": [],
   "source": [
    "# Add a color mapping to each president:\n",
    "presidential_color = {'Vicente Fox':'y','Felipe Calderón':'b', 'Enrique Peña Nieto': 'g', 'Andrés Manuel López Obrador':'r'}\n",
    "drugwar_df['Color'] = drugwar_df['President'].map(presidential_color)\n",
    "\n",
    "# Remove 1 outlier that is in the atlantic\n",
    "drugwar_df.drop(drugwar_df[drugwar_df['Latitude'] == drugwar_df['Latitude'].max()].index, inplace = True)"
   ]
  },
  {
   "cell_type": "code",
   "execution_count": null,
   "metadata": {},
   "outputs": [],
   "source": [
    "# Create GeoPandas Dataframe\n",
    "gdf = geopandas.GeoDataFrame(\n",
    "    drugwar_df, geometry=geopandas.points_from_xy(drugwar_df.Longitude, drugwar_df.Latitude))"
   ]
  },
  {
   "cell_type": "code",
   "execution_count": null,
   "metadata": {},
   "outputs": [],
   "source": [
    "world = geopandas.read_file(geopandas.datasets.get_path('naturalearth_lowres'))\n",
    "\n",
    "# We restrict to Mexico.\n",
    "ax = world[world.name == 'Mexico'].plot(\n",
    "    color='white', edgecolor='black')\n",
    "\n",
    "# We can now plot our GeoPandas Map\n",
    "gdf.plot(ax=ax, c=drugwar_df['Color'], alpha = 0.5)\n",
    "\n",
    "plt.show()"
   ]
  },
  {
   "cell_type": "markdown",
   "metadata": {},
   "source": [
    "As we saw above, the majority of murders happened during Calderón and AMLO's presidency. However, it is interesting to note that the political violence was much more widespread during Calderón's reign, whereas during AMLO's time it is more pronounced in the center and south of the country."
   ]
  },
  {
   "cell_type": "markdown",
   "metadata": {},
   "source": [
    "### Choropleth Map\n",
    "In order to plot a choropleth map, it helps to have a separate column with the state name. After first doing this though, I notice 2 entries which have two commas in the Location column, so I need to edit these to maintain the coherence of the new 'State' column. Later, I realize many just list a single city so have no commas - this makes sense as many state capitals have the same name as the state itself. (such as 'Durango, Durango' listed as 'Durango')"
   ]
  },
  {
   "cell_type": "code",
   "execution_count": null,
   "metadata": {},
   "outputs": [],
   "source": [
    "states_df = drugwar_df.Location.str.split(',', expand=True)"
   ]
  },
  {
   "cell_type": "code",
   "execution_count": null,
   "metadata": {},
   "outputs": [],
   "source": [
    "# Check which entries expand to three columns\n",
    "#print(states_df[states_df[2].notnull()])\n",
    "#print(states_df[states_df[1].isnull()])"
   ]
  },
  {
   "cell_type": "code",
   "execution_count": null,
   "metadata": {},
   "outputs": [],
   "source": [
    "# Edit original Dataframe\n",
    "\n",
    "# Change entries with too many commas\n",
    "drugwar_df.loc[147,'Location'] = 'Xochitepec, Morelos'\n",
    "drugwar_df.loc[148,'Location'] = 'La Paz, Morelos'\n",
    "\n",
    "# Change entries with too few commas (if town or city name is missing, I will assume the state capital)\n",
    "drugwar_df.loc[15,'Location'] = 'Morelia, Michoacán'\n",
    "drugwar_df.loc[117,'Location'] = 'Zacatecas, Zacatecas'\n",
    "drugwar_df.loc[139,'Location'] = 'Cuernavaca, Morelos'\n",
    "drugwar_df.loc[144,'Location'] = 'State of Mexico, State of Mexico'\n",
    "drugwar_df.loc[166,'Location'] = 'Morelia, Michoacan'\n",
    "drugwar_df.loc[171,'Location'] = 'Veracruz, Veracruz'\n",
    "drugwar_df.loc[184,'Location'] = 'Ocotlán de Morelos, Morelos'\n",
    "drugwar_df.loc[185,'Location'] = 'Monterrey, Nuevo León'\n",
    "\n"
   ]
  },
  {
   "cell_type": "code",
   "execution_count": null,
   "metadata": {},
   "outputs": [],
   "source": [
    "# Retry\n",
    "states_df = drugwar_df.Location.str.split(',', expand=True)\n",
    "states_df.head()"
   ]
  },
  {
   "cell_type": "code",
   "execution_count": null,
   "metadata": {},
   "outputs": [],
   "source": [
    "# Merge with DF\n",
    "drugwar_df[['Town','State']]= states_df\n",
    "drugwar_df.head()"
   ]
  },
  {
   "cell_type": "markdown",
   "metadata": {},
   "source": [
    "To make the choropleth map, first I need to clean the State column."
   ]
  },
  {
   "cell_type": "code",
   "execution_count": null,
   "metadata": {},
   "outputs": [],
   "source": [
    "# Strip whitespace\n",
    "drugwar_df['State'] = drugwar_df['State'].str.strip()\n",
    "\n",
    "# Check Spellings\n",
    "drugwar_df['State'] = drugwar_df['State'].str.replace('Michoacan', 'Michoacán')\n",
    "drugwar_df['State'] = drugwar_df['State'].str.replace('State of Mexico', 'México')\n",
    "drugwar_df['State'] = drugwar_df['State'].str.replace('nan', 'México')\n"
   ]
  },
  {
   "cell_type": "code",
   "execution_count": null,
   "metadata": {},
   "outputs": [],
   "source": [
    "#Check all unique entries\n",
    "drugwar_df['State'].unique()"
   ]
  },
  {
   "cell_type": "code",
   "execution_count": null,
   "metadata": {},
   "outputs": [],
   "source": [
    "choro_df = drugwar_df[['State','Count']].groupby('State').sum('Count').reset_index()"
   ]
  },
  {
   "cell_type": "code",
   "execution_count": null,
   "metadata": {},
   "outputs": [],
   "source": [
    "# Download Mexico Choropleth JSON\n",
    "repo_url = 'https://raw.githubusercontent.com/angelnmara/geojson/master/mexicoHigh.json' \n",
    "mx_regions_geo = requests.get(repo_url).json()\n",
    "\n",
    "# Plot Map\n",
    "fig = px.choropleth(data_frame=choro_df, \n",
    "                    geojson=mx_regions_geo, \n",
    "                    locations=choro_df['State'],\n",
    "                    featureidkey='properties.name',\n",
    "                    color=choro_df['Count'],\n",
    "                    color_continuous_scale=\"burg\",\n",
    "                   )\n",
    "\n",
    "fig.update_geos(showcountries=True, showcoastlines=True, showland=True, fitbounds=\"locations\")\n",
    "fig.show()"
   ]
  },
  {
   "cell_type": "markdown",
   "metadata": {},
   "source": [
    "As we can see from the choropleth map, the most dangerous states for politicians in Mexcio are mostly in the south, with Guererro topping the list (26 murders), followed by Oaxaca and Veracruz (18 each). The advantage of the choropleth map is we can see exactly which regions the violence is concentrated in, which we would not necessarily be able to infer from a bar chart of deaths-by-state."
   ]
  },
  {
   "cell_type": "markdown",
   "metadata": {},
   "source": [
    "## Conclusion\n",
    "In this notebook, we've looked at murders of politicians in Mexico over the last 16 years. We saw large increases in murders during the presidencies of Felipe Calderón and Andres Manuel Lopez Obrador, and and interesting dip during the presidency of Enrique Peña Nieto. Also, we have seen how the pattern of murders changed between Calderón's time, where killings were spaced out across the country, to today, where murders are more concentrated in the south. Finally, we have seen that it is the southern states of Guererro, Oaxaca, and Veracruz which have the highest total number of political assassinations.\n",
    "\n",
    "Going further, it would be interesting to look more closely at how the distribution of killings change over time, and how considering the per-capita murder rate of political figures may change the analysis. Finally, it will be interesting to revist this at the end of AMLO's tenure to see if the total number of murder's during his Sexenio surpasses that of Calderón's.\n",
    "\n",
    "It is currently on-track to do so."
   ]
  },
  {
   "cell_type": "code",
   "execution_count": null,
   "metadata": {},
   "outputs": [],
   "source": []
  },
  {
   "cell_type": "code",
   "execution_count": null,
   "metadata": {},
   "outputs": [],
   "source": []
  }
 ],
 "metadata": {
  "kernelspec": {
   "display_name": "Python 3",
   "language": "python",
   "name": "python3"
  },
  "language_info": {
   "codemirror_mode": {
    "name": "ipython",
    "version": 3
   },
   "file_extension": ".py",
   "mimetype": "text/x-python",
   "name": "python",
   "nbconvert_exporter": "python",
   "pygments_lexer": "ipython3",
   "version": "3.8.5"
  }
 },
 "nbformat": 4,
 "nbformat_minor": 4
}
